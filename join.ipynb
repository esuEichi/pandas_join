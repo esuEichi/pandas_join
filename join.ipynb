{
 "cells": [
  {
   "cell_type": "code",
   "execution_count": 22,
   "metadata": {},
   "outputs": [],
   "source": [
    "import pandas as pd"
   ]
  },
  {
   "cell_type": "code",
   "execution_count": 43,
   "metadata": {},
   "outputs": [],
   "source": [
    "member = pd.read_csv('member.csv')\n",
    "department = pd.read_csv('department.csv')"
   ]
  },
  {
   "cell_type": "code",
   "execution_count": 44,
   "metadata": {},
   "outputs": [
    {
     "name": "stdout",
     "output_type": "stream",
     "text": [
      "   id        name  department_id  base_salary\n",
      "0   1      tanaka              3           20\n",
      "1   2      yamada              1           21\n",
      "2   3        sato              2           24\n",
      "3   4      kodama              2           20\n",
      "4   5      honami              3           19\n",
      "5   6  matsushima              2           28\n",
      "6   7        kato              1           26\n",
      "   id     name  value\n",
      "0   1      dev      2\n",
      "1   2      ops      4\n",
      "2   3  factory      1\n"
     ]
    }
   ],
   "source": [
    "print(member)\n",
    "print(department)"
   ]
  },
  {
   "cell_type": "code",
   "execution_count": 45,
   "metadata": {},
   "outputs": [],
   "source": [
    "joined = member.merge(department, left_on='department_id', right_on='id', how='left')"
   ]
  },
  {
   "cell_type": "code",
   "execution_count": 46,
   "metadata": {},
   "outputs": [
    {
     "name": "stdout",
     "output_type": "stream",
     "text": [
      "   id_x      name_x  department_id  base_salary  id_y   name_y  value\n",
      "0     1      tanaka              3           20     3  factory      1\n",
      "1     2      yamada              1           21     1      dev      2\n",
      "2     3        sato              2           24     2      ops      4\n",
      "3     4      kodama              2           20     2      ops      4\n",
      "4     5      honami              3           19     3  factory      1\n",
      "5     6  matsushima              2           28     2      ops      4\n",
      "6     7        kato              1           26     1      dev      2\n"
     ]
    }
   ],
   "source": [
    "print(joined)"
   ]
  },
  {
   "cell_type": "code",
   "execution_count": 47,
   "metadata": {},
   "outputs": [],
   "source": [
    "joined['fixed_salary'] = joined['base_salary'] * (1 + joined['value'] / 10)"
   ]
  },
  {
   "cell_type": "code",
   "execution_count": 48,
   "metadata": {},
   "outputs": [
    {
     "name": "stdout",
     "output_type": "stream",
     "text": [
      "   id_x      name_x  department_id  base_salary  id_y   name_y  value  \\\n",
      "0     1      tanaka              3           20     3  factory      1   \n",
      "1     2      yamada              1           21     1      dev      2   \n",
      "2     3        sato              2           24     2      ops      4   \n",
      "3     4      kodama              2           20     2      ops      4   \n",
      "4     5      honami              3           19     3  factory      1   \n",
      "5     6  matsushima              2           28     2      ops      4   \n",
      "6     7        kato              1           26     1      dev      2   \n",
      "\n",
      "   fixed_salary  \n",
      "0          22.0  \n",
      "1          25.2  \n",
      "2          33.6  \n",
      "3          28.0  \n",
      "4          20.9  \n",
      "5          39.2  \n",
      "6          31.2  \n",
      "0    22.0\n",
      "1    25.2\n",
      "2    33.6\n",
      "3    28.0\n",
      "4    20.9\n",
      "5    39.2\n",
      "6    31.2\n",
      "Name: fixed_salary, dtype: float64\n"
     ]
    }
   ],
   "source": [
    "print(joined)\n",
    "print(joined['fixed_salary'])"
   ]
  },
  {
   "cell_type": "code",
   "execution_count": null,
   "metadata": {},
   "outputs": [],
   "source": []
  }
 ],
 "metadata": {
  "kernelspec": {
   "display_name": "Python 3",
   "language": "python",
   "name": "python3"
  },
  "language_info": {
   "codemirror_mode": {
    "name": "ipython",
    "version": 3
   },
   "file_extension": ".py",
   "mimetype": "text/x-python",
   "name": "python",
   "nbconvert_exporter": "python",
   "pygments_lexer": "ipython3",
   "version": "3.8.5"
  }
 },
 "nbformat": 4,
 "nbformat_minor": 4
}
